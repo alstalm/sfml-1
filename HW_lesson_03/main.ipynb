{
 "cells": [
  {
   "cell_type": "markdown",
   "metadata": {},
   "source": [
    "Team 4\n",
    "\n",
    "* Александр\tГаланов\tag\n",
    "* Владимир\tПомелов\tmel-po\n",
    "* Павел\tМочалов\tPavel Mochalov\n",
    "* Александр\tСтальмаков\talex_st"
   ]
  },
  {
   "cell_type": "code",
   "execution_count": 1,
   "metadata": {},
   "outputs": [],
   "source": [
    "import pandas as pd\n",
    "import numpy as np\n",
    "\n",
    "import matplotlib.pyplot as plt\n",
    "%matplotlib inline\n",
    "\n",
    "from sklearn.neighbors import KNeighborsClassifier\n",
    "from sklearn.tree import DecisionTreeClassifier\n",
    "from sklearn.linear_model import LogisticRegression\n",
    "\n",
    "from sklearn.metrics import classification_report\n",
    "from sklearn.preprocessing import StandardScaler\n",
    "from sklearn.pipeline import Pipeline\n",
    "\n",
    "try:\n",
    "    from sklearn.model_selection import validation_curve\n",
    "    from sklearn.model_selection import StratifiedKFold\n",
    "except ImportError:\n",
    "    from sklearn.learning_curve import validation_curve\n",
    "    from sklearn.cross_validation import StratifiedKFold\n",
    "\n",
    "from sklearn.metrics import roc_auc_score\n",
    "\n",
    "from scipy.stats import randint as randint\n",
    "from scipy.stats import uniform\n",
    "\n",
    "try:\n",
    "    from sklearn.model_selection import GridSearchCV\n",
    "    from sklearn.model_selection import RandomizedSearchCV\n",
    "    from sklearn.model_selection import StratifiedKFold\n",
    "    from sklearn.model_selection import train_test_split\n",
    "except ImportError:\n",
    "    from sklearn.cross_validation import GridSearchCV\n",
    "    from sklearn.cross_validation import RandomizedSearchCV\n",
    "    from sklearn.cross_validation import StratifiedKFold\n",
    "    from sklearn.cross_validation import train_test_split"
   ]
  },
  {
   "cell_type": "code",
   "execution_count": 2,
   "metadata": {},
   "outputs": [],
   "source": [
    "#   _id - идентификатор человека\n",
    "#   age - возраст\n",
    "#   job - тип работы (\"admin.\",\"blue-collar\",\"entrepreneur\",\"housemaid\",\"management\",\"retired\",\"self-employed\",\"services\",\"student\",\"technician\",\"unemployed\",\"unknown\")\n",
    "#   marital - семейное положение (\"divorced\" (разведенный и овдовевший),\"married\",\"single\",\"unknown\")\n",
    "#   education - уровень образования (\"basic.4y\",\"basic.6y\",\"basic.9y\",\"high.school\",\"illiterate\",\"professional.course\",\"university.degree\",\"unknown\")\n",
    "#   default - есть ли дефолт по кредиту (\"no\",\"yes\",\"unknown\")\n",
    "#   housing - есть ли кредит на жилье (\"no\",\"yes\",\"unknown\")\n",
    "#   loan - есть ли персональный кредит (\"no\",\"yes\",\"unknown\")\n",
    "#   contact - контактный тип связи (\"cellular\",\"telephone\")\n",
    "#   month - последний контактный месяц года (\"jan\", \"feb\", \"mar\", ..., \"nov\", \"dec\")\n",
    "#   day_of_week - последний контактный день недели (\"mon\",\"tue\",\"wed\",\"thu\",\"fri\")\n",
    "#   duration - длительность последнего контакта в секундах. (Важное замечание: этот атрибут сильно влияет на таргет (например, если длительность - 0 сек., то таргет - 0). Тем не менее, продолжительность не известна до выполнения вызова.\n",
    "#   campaign - количество контактов, выполненных для этого клиента в рамках текущей маркетинговой кампании (включая последний контакт)\n",
    "#   pdays - количество дней прошедших последнего контакта с клиентом с предыдущей маркетинговой кампании (999 означает, что ранее с клиентом не контактировали)\n",
    "#   previous - количество контактов, выполненных до текущей маркетинговой кампании для этого клиента\n",
    "#   poutcome - результат предыдущей маркетинговой кампании (\"failure\",\"nonexistent\",\"success\")\n",
    "#   # ниже приведены показатели окружающей среды и банка\n",
    "#   emp.var.rate - изменение уровня занятости (квартальный показатель)\n",
    "#   cons.price.idx - индекс потребительских цен (ежемесячный показатель)\n",
    "#   cons.conf.idx - индекс доверия потребителя (ежемесячный показатель)\n",
    "#   euribor3m - курс Euribor (ежедневный показатель)\n",
    "#   nr.employed - количество сотрудников (квартальный показатель)\n",
    "#   target - целевая переменная (таргет) - согласился ли клиент на вклад (депозит)"
   ]
  },
  {
   "cell_type": "code",
   "execution_count": 3,
   "metadata": {},
   "outputs": [
    {
     "data": {
      "text/plain": [
       "[RangeIndex(start=0, stop=24712, step=1),\n",
       " Index(['_id', 'age', 'job', 'marital', 'education', 'default', 'housing',\n",
       "        'loan', 'contact', 'month', 'day_of_week', 'duration', 'campaign',\n",
       "        'pdays', 'previous', 'poutcome', 'emp.var.rate', 'cons.price.idx',\n",
       "        'cons.conf.idx', 'euribor3m', 'nr.employed', 'target'],\n",
       "       dtype='object')]"
      ]
     },
     "execution_count": 3,
     "metadata": {},
     "output_type": "execute_result"
    }
   ],
   "source": [
    "df = pd.read_csv('train.csv', sep=',')\n",
    "df.axes"
   ]
  },
  {
   "cell_type": "code",
   "execution_count": 4,
   "metadata": {
    "scrolled": false
   },
   "outputs": [
    {
     "name": "stdout",
     "output_type": "stream",
     "text": [
      "<class 'pandas.core.frame.DataFrame'>\n",
      "RangeIndex: 24712 entries, 0 to 24711\n",
      "Data columns (total 22 columns):\n",
      "_id               24712 non-null object\n",
      "age               24712 non-null int64\n",
      "job               24712 non-null object\n",
      "marital           24712 non-null object\n",
      "education         24712 non-null object\n",
      "default           24712 non-null object\n",
      "housing           24712 non-null object\n",
      "loan              24712 non-null object\n",
      "contact           24712 non-null object\n",
      "month             24712 non-null object\n",
      "day_of_week       24712 non-null object\n",
      "duration          24712 non-null int64\n",
      "campaign          24712 non-null int64\n",
      "pdays             24712 non-null int64\n",
      "previous          24712 non-null int64\n",
      "poutcome          24712 non-null object\n",
      "emp.var.rate      24712 non-null float64\n",
      "cons.price.idx    24712 non-null float64\n",
      "cons.conf.idx     24712 non-null float64\n",
      "euribor3m         24712 non-null float64\n",
      "nr.employed       24712 non-null float64\n",
      "target            24712 non-null int64\n",
      "dtypes: float64(5), int64(6), object(11)\n",
      "memory usage: 4.1+ MB\n"
     ]
    },
    {
     "data": {
      "text/plain": [
       "age                 40.030188\n",
       "duration           258.345298\n",
       "campaign             2.580163\n",
       "pdays              963.558797\n",
       "previous             0.171900\n",
       "emp.var.rate         0.082713\n",
       "cons.price.idx      93.576386\n",
       "cons.conf.idx      -40.516077\n",
       "euribor3m            3.619397\n",
       "nr.employed       5166.988111\n",
       "target               0.112779\n",
       "dtype: float64"
      ]
     },
     "execution_count": 4,
     "metadata": {},
     "output_type": "execute_result"
    }
   ],
   "source": [
    "df.info()\n",
    "df.mean()"
   ]
  },
  {
   "cell_type": "code",
   "execution_count": 5,
   "metadata": {},
   "outputs": [],
   "source": [
    "def preproc(df_init):\n",
    "    \"\"\"\n",
    "    какие бы комбинации кодирования данных не пробовал заметного улучшения модели не получил,\n",
    "    оставил последний вариант как есть\n",
    "    \"\"\" \n",
    "    df_preproc = df_init.copy()\n",
    "    \n",
    "    #dummy_columns = ['job', 'marital', 'education', 'contact', 'month', 'day_of_week', 'poutcome']\n",
    "    #bins = [16, 20, 65, 99]\n",
    "    #df_preproc['age_cat'] = pd.cut(df_preproc.age, bins=bins)\n",
    "    #bins_dur = [-1]# 60*2, 60*3, 60*4, 60*5, 60*6, 600, 900, 1000, 2000, 9999]\n",
    "    #for i in range(1, 61, 10):\n",
    "    #    bins_dur.append(i*60)\n",
    "    #bins_dur.append(9999)\n",
    "    ##df.groupby(['target',pd.cut(df.duration, bins=bins_dur)]).count()[['_id']].unstack(fill_value=0)['_id'] \n",
    "    #df_preproc['dur_cat'] = pd.cut(df_preproc.duration, bins=bins_dur)\n",
    "    #\n",
    "    #dummy_columns = ['age_cat', 'dur_cat', 'job', 'marital', 'education', 'contact', 'month', 'day_of_week']\n",
    "    dummy_columns = ['marital', 'contact']#, 'month', 'day_of_week']\n",
    "    #dummy_columns = ['job', 'marital', 'education', 'contact', 'month', 'day_of_week']\n",
    "    df_preproc = pd.get_dummies(df_preproc, columns=dummy_columns)\n",
    "    \n",
    "    TARGET_DF = df_preproc['target']\n",
    "    df_preproc = df_preproc.drop(['_id'\n",
    "    #                              , 'age'\n",
    "    #                              , 'duration'\n",
    "                                #  , 'job'\n",
    "                                #  , 'marital'\n",
    "                                #  , 'education'\n",
    "                                # # , 'default'\n",
    "                                # # , 'housing'\n",
    "                                # # , 'loan'\n",
    "                                #  , 'contact'\n",
    "                                  , 'month'\n",
    "                                  , 'day_of_week'\n",
    "                                #  , 'poutcome'\n",
    "                                  , 'target'\n",
    "                                 ], axis=1)\n",
    "    \n",
    "    # Замена категориальных признаков\n",
    "    df_preproc.loc[:, ['default', 'housing', 'loan']] = \\\n",
    "    df_preproc.loc[:, ['default', 'housing', 'loan']].replace({\"no\": 0\n",
    "                                                               ,\"yes\": 1\n",
    "                                                               ,\"unknown\": 0.5})\n",
    "    for i in ['default', 'housing', 'loan']:\n",
    "        df_preproc.loc[df_preproc[i] == 0.5, [i]] = df_preproc.loc[(df_preproc['loan'] != 0.5), 'loan'].mean()\n",
    "    \n",
    "    # 999 == ранне не контактировали\n",
    "    df_preproc.loc[:, ['pdays']] = \\\n",
    "    df_preproc.loc[:, ['pdays']].replace({999: -1}) \n",
    "    \n",
    "    df_preproc.loc[:, ['poutcome']] = \\\n",
    "    df_preproc.loc[:, ['poutcome']].replace({\"failure\": -1, \"success\": 1, \"nonexistent\": 0})\n",
    "    \n",
    "    # градация субъективно логичная, изменений не привнесла\n",
    "    df_preproc.loc[:, ['education']] = \\\n",
    "    df_preproc.loc[:, ['education']].replace({\n",
    "        \"basic.4y\":1\n",
    "        ,\"basic.6y\":1\n",
    "        ,\"basic.9y\":1\n",
    "        ,\"high.school\":2\n",
    "        ,\"illiterate\":0\n",
    "        ,\"professional.course\":3\n",
    "        ,\"university.degree\":4\n",
    "        ,\"unknown\": -1\n",
    "    })\n",
    "    \n",
    "    # работу по сути делю на 3 категории: работает, не работает, неизвестно\n",
    "    df_preproc.loc[:, ['job']] = \\\n",
    "    df_preproc.loc[:, ['job']].replace({\"admin.\": 1\n",
    "                                        ,\"blue-collar\":1\n",
    "                                        ,\"entrepreneur\":1\n",
    "                                        ,\"housemaid\":1\n",
    "                                        ,\"management\":1\n",
    "                                        ,\"retired\":0\n",
    "                                        ,\"self-employed\":1\n",
    "                                        ,\"services\" :1  \n",
    "                                        ,\"student\":1\n",
    "                                        ,\"technician\":1\n",
    "                                        ,\"unemployed\":0\n",
    "                                        ,\"unknown\":-1\n",
    "        })\n",
    "    \n",
    "    \n",
    "    return df_preproc, TARGET_DF"
   ]
  },
  {
   "cell_type": "code",
   "execution_count": 6,
   "metadata": {},
   "outputs": [],
   "source": [
    "df_preproc, target_df = df.pipe(preproc)\n",
    "# никому нельзя верять, даже себе, поэтому перед кроссвалидацией раздею выборку на 2\n",
    "# чтобы потом ещё разок себя перепроверить\n",
    "X, X_test, y, y_test = train_test_split(df_preproc.values, target_df, test_size=0.1, random_state=123)"
   ]
  },
  {
   "cell_type": "markdown",
   "metadata": {},
   "source": [
    "### сына вырастил, дом построил, пора и дерево строить\n",
    "### расти DecisionTreeClassifier большой и маленький"
   ]
  },
  {
   "cell_type": "code",
   "execution_count": 7,
   "metadata": {
    "scrolled": false
   },
   "outputs": [],
   "source": [
    "model = DecisionTreeClassifier(random_state=123)\n",
    "\n",
    "# FIXME какое n_splits оптимально? Беру 30. Почему 30? Просто потому что могу\n",
    "cv = StratifiedKFold(n_splits=30, shuffle=True, random_state=132)\n",
    "train_scores, valid_scores = validation_curve(model, X, y, \n",
    "                                              'max_depth', range(1, 12),\n",
    "                                              cv=cv, scoring='roc_auc')"
   ]
  },
  {
   "cell_type": "code",
   "execution_count": 8,
   "metadata": {},
   "outputs": [
    {
     "data": {
      "text/plain": [
       "Text(0,0.5,'ROC AUC')"
      ]
     },
     "execution_count": 8,
     "metadata": {},
     "output_type": "execute_result"
    },
    {
     "data": {
      "image/png": "[encoded data removed]",
      "text/plain": [
       "<Figure size 432x288 with 1 Axes>"
      ]
     },
     "metadata": {},
     "output_type": "display_data"
    }
   ],
   "source": [
    "train_score_mean = train_scores.mean(axis=1)\n",
    "train_score_std = train_scores.std(axis=1)\n",
    "valid_scores_mean = valid_scores.mean(axis=1)\n",
    "valid_scores_std = valid_scores.std(axis=1)\n",
    "\n",
    "plt.fill_between(range(1,12), train_score_mean-train_score_std, train_score_mean+train_score_std, color='b',\n",
    "                 interpolate=True, alpha=0.5,)\n",
    "plt.fill_between(range(1,12), valid_scores_mean-valid_scores_std, valid_scores_mean+valid_scores_std, color='r', \n",
    "                 interpolate=True, alpha=0.5)\n",
    "\n",
    "plt.plot(range(1,12), train_score_mean, c='b', lw=2)\n",
    "plt.plot(range(1,12), valid_scores_mean, c='r', lw=2)\n",
    "\n",
    "plt.xlabel('max depth')\n",
    "plt.ylabel('ROC AUC')"
   ]
  },
  {
   "cell_type": "code",
   "execution_count": 9,
   "metadata": {
    "scrolled": false
   },
   "outputs": [
    {
     "data": {
      "text/plain": [
       "GridSearchCV(cv=StratifiedKFold(n_splits=30, random_state=132, shuffle=True),\n",
       "       error_score='raise',\n",
       "       estimator=DecisionTreeClassifier(class_weight=None, criterion='gini', max_depth=None,\n",
       "            max_features=None, max_leaf_nodes=None,\n",
       "            min_impurity_decrease=0.0, min_impurity_split=None,\n",
       "            min_samples_leaf=1, min_samples_split=2,\n",
       "            min_weight_fraction_leaf=0.0, presort=False, random_state=123,\n",
       "            splitter='best'),\n",
       "       fit_params=None, iid=True, n_jobs=-1,\n",
       "       param_grid={'criterion': ['gini', 'entropy'], 'max_depth': range(4, 9), 'min_samples_leaf': range(5, 15), 'class_weight': [None, 'balanced']},\n",
       "       pre_dispatch='2*n_jobs', refit=True, return_train_score='warn',\n",
       "       scoring='roc_auc', verbose=0)"
      ]
     },
     "execution_count": 9,
     "metadata": {},
     "output_type": "execute_result"
    }
   ],
   "source": [
    "param_grid = {\n",
    "    'criterion': ['gini', 'entropy'],\n",
    "    'max_depth': range(4, 9),\n",
    "    'min_samples_leaf': range(5, 15),\n",
    "    'class_weight': [None, 'balanced']}\n",
    "\n",
    "# FIXME не осилил английское описание как работает class_weight\n",
    "# без max_depth и min_sapmles_leaf roc_auc совсем печальный\n",
    "# как понял - именно этот параметр надо теребонькать когда выборка не сбалансированная, как у нас\n",
    "\n",
    "# разницы между GridSearchCV и RandomizedSearchCV не заметил\n",
    "grid_search = GridSearchCV(model, param_grid=param_grid, n_jobs=-1,\n",
    "                                   cv=cv, scoring='roc_auc')\n",
    "\n",
    "grid_search.fit(X, y)"
   ]
  },
  {
   "cell_type": "code",
   "execution_count": 10,
   "metadata": {
    "scrolled": true
   },
   "outputs": [
    {
     "data": {
      "text/plain": [
       "{'class_weight': 'balanced',\n",
       " 'criterion': 'entropy',\n",
       " 'max_depth': 7,\n",
       " 'min_samples_leaf': 14}"
      ]
     },
     "execution_count": 10,
     "metadata": {},
     "output_type": "execute_result"
    }
   ],
   "source": [
    "grid_search.best_params_"
   ]
  },
  {
   "cell_type": "code",
   "execution_count": 11,
   "metadata": {
    "scrolled": false
   },
   "outputs": [
    {
     "data": {
      "text/plain": [
       "0.938430647067235"
      ]
     },
     "execution_count": 11,
     "metadata": {},
     "output_type": "execute_result"
    }
   ],
   "source": [
    "ra_dtc_train = grid_search.best_score_\n",
    "ra_dtc_train"
   ]
  },
  {
   "cell_type": "code",
   "execution_count": 12,
   "metadata": {},
   "outputs": [
    {
     "data": {
      "text/plain": [
       "loan                 0.000000\n",
       "marital_unknown      0.000000\n",
       "housing              0.000113\n",
       "marital_divorced     0.000148\n",
       "previous             0.000298\n",
       "marital_married      0.000369\n",
       "default              0.000518\n",
       "marital_single       0.001189\n",
       "job                  0.001353\n",
       "contact_telephone    0.001543\n",
       "contact_cellular     0.001759\n",
       "education            0.002788\n",
       "poutcome             0.003103\n",
       "cons.price.idx       0.004269\n",
       "age                  0.004356\n",
       "campaign             0.005245\n",
       "pdays                0.008401\n",
       "cons.conf.idx        0.014441\n",
       "euribor3m            0.086631\n",
       "nr.employed          0.149041\n",
       "emp.var.rate         0.212121\n",
       "duration             0.502312\n",
       "dtype: float64"
      ]
     },
     "execution_count": 12,
     "metadata": {},
     "output_type": "execute_result"
    }
   ],
   "source": [
    "model = grid_search.best_estimator_\n",
    "imp = model.feature_importances_\n",
    "\n",
    "pd.Series(index=df_preproc.columns, data=imp).sort_values()\n",
    "# внешние признаки в топе (duration не считая), как трактовать предупреждение о duration из описания не понял"
   ]
  },
  {
   "cell_type": "code",
   "execution_count": 13,
   "metadata": {},
   "outputs": [
    {
     "data": {
      "text/plain": [
       "0.8280744336569579"
      ]
     },
     "execution_count": 13,
     "metadata": {},
     "output_type": "execute_result"
    }
   ],
   "source": [
    "TEST = model.predict(X_test)\n",
    "model.score(X_test, y_test)"
   ]
  },
  {
   "cell_type": "code",
   "execution_count": 14,
   "metadata": {},
   "outputs": [],
   "source": [
    "ra_dtc_test = roc_auc_score(TEST, y_test)"
   ]
  },
  {
   "cell_type": "code",
   "execution_count": 15,
   "metadata": {},
   "outputs": [
    {
     "name": "stdout",
     "output_type": "stream",
     "text": [
      "             precision    recall  f1-score   support\n",
      "\n",
      "          0       0.99      0.81      0.89      2202\n",
      "          1       0.38      0.95      0.55       270\n",
      "\n",
      "avg / total       0.93      0.83      0.86      2472\n",
      "\n"
     ]
    }
   ],
   "source": [
    "print(classification_report(y_test, TEST))\n",
    "# значение precision на класс 1 засталяет плакать\n",
    "# в порядке бреда можно было бы как то выгрузить все FalseNegative строки выборки и поискать в них закономерности"
   ]
  },
  {
   "cell_type": "markdown",
   "metadata": {},
   "source": [
    "### Логистическая регрессия"
   ]
  },
  {
   "cell_type": "code",
   "execution_count": 16,
   "metadata": {},
   "outputs": [
    {
     "data": {
      "text/plain": [
       "RandomizedSearchCV(cv=StratifiedKFold(n_splits=15, random_state=123, shuffle=True),\n",
       "          error_score='raise',\n",
       "          estimator=LogisticRegression(C=1.0, class_weight=None, dual=False, fit_intercept=True,\n",
       "          intercept_scaling=1, max_iter=100, multi_class='ovr', n_jobs=1,\n",
       "          penalty='l2', random_state=123, solver='liblinear', tol=0.0001,\n",
       "          verbose=0, warm_start=False),\n",
       "          fit_params=None, iid=True, n_iter=20, n_jobs=-1,\n",
       "          param_distributions={'C': <scipy.stats._distn_infrastructure.rv_frozen object at 0x115b63ba8>, 'tol': [0.0001, 1e-05, 0.001], 'class_weight': [None, 'balanced']},\n",
       "          pre_dispatch='2*n_jobs', random_state=123, refit=True,\n",
       "          return_train_score='warn', scoring='roc_auc', verbose=0)"
      ]
     },
     "execution_count": 16,
     "metadata": {},
     "output_type": "execute_result"
    }
   ],
   "source": [
    "# Определим пространство поиска\n",
    "\n",
    "param_grid_log = {\n",
    "    'C': randint(10, 18),\n",
    "    'tol': [1e-4, 1e-5, 1e-3],\n",
    "    'class_weight': [None, 'balanced']}\n",
    "\n",
    "cv_log = StratifiedKFold(n_splits=15, random_state=123, shuffle=True)\n",
    "\n",
    "model_log = LogisticRegression(random_state=123)\n",
    "random_search = RandomizedSearchCV(model_log, param_distributions=param_grid_log, n_iter=20, n_jobs=-1,\n",
    "                                   cv=cv_log, scoring='roc_auc', random_state=123)\n",
    "random_search.fit(X, y)"
   ]
  },
  {
   "cell_type": "code",
   "execution_count": 17,
   "metadata": {},
   "outputs": [
    {
     "data": {
      "text/plain": [
       "{'C': 16, 'class_weight': 'balanced', 'tol': 1e-05}"
      ]
     },
     "execution_count": 17,
     "metadata": {},
     "output_type": "execute_result"
    }
   ],
   "source": [
    "random_search.best_params_"
   ]
  },
  {
   "cell_type": "code",
   "execution_count": 18,
   "metadata": {},
   "outputs": [
    {
     "data": {
      "text/plain": [
       "0.928121894593177"
      ]
     },
     "execution_count": 18,
     "metadata": {},
     "output_type": "execute_result"
    }
   ],
   "source": [
    "model_log = random_search.best_estimator_\n",
    "ra_log_train = random_search.best_score_\n",
    "ra_log_train"
   ]
  },
  {
   "cell_type": "code",
   "execution_count": 19,
   "metadata": {},
   "outputs": [
    {
     "data": {
      "text/plain": [
       "0.8596278317152104"
      ]
     },
     "execution_count": 19,
     "metadata": {},
     "output_type": "execute_result"
    }
   ],
   "source": [
    "TEST_log = model.predict(X_test)\n",
    "\n",
    "model_log.score(X_test, y_test)"
   ]
  },
  {
   "cell_type": "code",
   "execution_count": 20,
   "metadata": {},
   "outputs": [
    {
     "data": {
      "text/plain": [
       "0.8823746089413664"
      ]
     },
     "execution_count": 20,
     "metadata": {},
     "output_type": "execute_result"
    }
   ],
   "source": [
    "ra_log_test = roc_auc_score(y_test, TEST_log)\n",
    "ra_log_test\n",
    "# не смотря на чуть худший показательна тренировочной выборке LogReg показывает себя заметно лучше на тестовой выборке"
   ]
  },
  {
   "cell_type": "code",
   "execution_count": 21,
   "metadata": {},
   "outputs": [
    {
     "name": "stdout",
     "output_type": "stream",
     "text": [
      "             precision    recall  f1-score   support\n",
      "\n",
      "          0       0.99      0.81      0.89      2202\n",
      "          1       0.38      0.95      0.55       270\n",
      "\n",
      "avg / total       0.93      0.83      0.86      2472\n",
      "\n"
     ]
    }
   ],
   "source": [
    "print(classification_report(y_test, TEST_log))"
   ]
  },
  {
   "cell_type": "markdown",
   "metadata": {},
   "source": [
    "### KNN"
   ]
  },
  {
   "cell_type": "code",
   "execution_count": 22,
   "metadata": {},
   "outputs": [],
   "source": [
    "model_knn = Pipeline([\n",
    "    ('scaler', StandardScaler()),\n",
    "    ('knn', KNeighborsClassifier(n_neighbors=5))\n",
    "])"
   ]
  },
  {
   "cell_type": "code",
   "execution_count": 23,
   "metadata": {},
   "outputs": [
    {
     "data": {
      "text/plain": [
       "Pipeline(memory=None,\n",
       "     steps=[('scaler', StandardScaler(copy=True, with_mean=True, with_std=True)), ('knn', KNeighborsClassifier(algorithm='auto', leaf_size=30, metric='minkowski',\n",
       "           metric_params=None, n_jobs=1, n_neighbors=5, p=2,\n",
       "           weights='uniform'))])"
      ]
     },
     "execution_count": 23,
     "metadata": {},
     "output_type": "execute_result"
    }
   ],
   "source": [
    "model_knn.fit(X, y)"
   ]
  },
  {
   "cell_type": "code",
   "execution_count": 24,
   "metadata": {},
   "outputs": [
    {
     "data": {
      "text/plain": [
       "(2472, 2)"
      ]
     },
     "execution_count": 24,
     "metadata": {},
     "output_type": "execute_result"
    }
   ],
   "source": [
    "y_hat = model_knn.predict(X_test)\n",
    "y_hat_proba = model_knn.predict_proba(X_test, )\n",
    "y_hat_proba.shape"
   ]
  },
  {
   "cell_type": "code",
   "execution_count": 25,
   "metadata": {},
   "outputs": [
    {
     "data": {
      "text/plain": [
       "0.8766374003431224"
      ]
     },
     "execution_count": 25,
     "metadata": {},
     "output_type": "execute_result"
    }
   ],
   "source": [
    "roc_auc_score(y_test, y_hat_proba[:, 1])"
   ]
  },
  {
   "cell_type": "code",
   "execution_count": 36,
   "metadata": {},
   "outputs": [
    {
     "data": {
      "text/plain": [
       "<matplotlib.legend.Legend at 0x11663ff60>"
      ]
     },
     "execution_count": 36,
     "metadata": {},
     "output_type": "execute_result"
    },
    {
     "data": {
      "image/png": "[encoded data removed]",
      "text/plain": [
       "<Figure size 432x288 with 1 Axes>"
      ]
     },
     "metadata": {},
     "output_type": "display_data"
    }
   ],
   "source": [
    "scores_test = []\n",
    "scores_train = []\n",
    "\n",
    "for k in range(1, 20):\n",
    "    model_knn = Pipeline([\n",
    "        ('scaler', StandardScaler()),\n",
    "        ('knn', KNeighborsClassifier(n_neighbors=k))\n",
    "    ])\n",
    "    model_knn.fit(X, y)\n",
    "    \n",
    "    y_hat_test = model_knn.predict_proba(X_test)\n",
    "    scores_test.append(roc_auc_score(y_test, y_hat_test[:, 1]))\n",
    "    \n",
    "    y_hat_train = model_knn.predict_proba(X)\n",
    "    scores_train.append(roc_auc_score(y, y_hat_train[:, 1]))\n",
    "    \n",
    "    \n",
    "\n",
    "plt.plot(scores_test, label='test')\n",
    "plt.plot(scores_train, label='train')\n",
    "plt.xlabel('n_neigbors')\n",
    "plt.ylabel('ROC AUC')\n",
    "plt.legend()"
   ]
  },
  {
   "cell_type": "code",
   "execution_count": 28,
   "metadata": {},
   "outputs": [
    {
     "data": {
      "text/plain": [
       "RandomizedSearchCV(cv=StratifiedKFold(n_splits=6, random_state=123, shuffle=True),\n",
       "          error_score='raise',\n",
       "          estimator=KNeighborsClassifier(algorithm='auto', leaf_size=30, metric='minkowski',\n",
       "           metric_params=None, n_jobs=1, n_neighbors=5, p=2,\n",
       "           weights='uniform'),\n",
       "          fit_params=None, iid=True, n_iter=20, n_jobs=-1,\n",
       "          param_distributions={'n_neighbors': <scipy.stats._distn_infrastructure.rv_frozen object at 0x116476fd0>, 'weights': ['uniform', 'distance']},\n",
       "          pre_dispatch='2*n_jobs', random_state=123, refit=True,\n",
       "          return_train_score='warn', scoring='roc_auc', verbose=0)"
      ]
     },
     "execution_count": 28,
     "metadata": {},
     "output_type": "execute_result"
    }
   ],
   "source": [
    "param_grid_knn = {\n",
    "    'n_neighbors': randint(3, 20),\n",
    "    'weights': ['uniform', 'distance']\n",
    "    }\n",
    "\n",
    "# Будем делать 20 запусков поиска\n",
    "cv_knn = StratifiedKFold(n_splits=6, random_state=123, shuffle=True)\n",
    "\n",
    "model_knn = KNeighborsClassifier()\n",
    "random_search_knn = RandomizedSearchCV(model_knn, param_distributions=param_grid_knn, n_iter=20, n_jobs=-1,\n",
    "                                   cv=cv_knn, scoring='roc_auc', random_state=123)\n",
    "random_search_knn.fit(X, y)"
   ]
  },
  {
   "cell_type": "code",
   "execution_count": 29,
   "metadata": {},
   "outputs": [
    {
     "data": {
      "text/plain": [
       "{'n_neighbors': 19, 'weights': 'uniform'}"
      ]
     },
     "execution_count": 29,
     "metadata": {},
     "output_type": "execute_result"
    }
   ],
   "source": [
    "random_search_knn.best_params_"
   ]
  },
  {
   "cell_type": "code",
   "execution_count": 30,
   "metadata": {},
   "outputs": [
    {
     "data": {
      "text/plain": [
       "0.9152043729595161"
      ]
     },
     "execution_count": 30,
     "metadata": {},
     "output_type": "execute_result"
    }
   ],
   "source": [
    "ra_knn_train = random_search_knn.best_score_\n",
    "ra_knn_train"
   ]
  },
  {
   "cell_type": "code",
   "execution_count": 31,
   "metadata": {},
   "outputs": [],
   "source": [
    "best_model_knn = random_search_knn.best_estimator_"
   ]
  },
  {
   "cell_type": "code",
   "execution_count": 32,
   "metadata": {},
   "outputs": [
    {
     "data": {
      "text/plain": [
       "0.7545110505600968"
      ]
     },
     "execution_count": 32,
     "metadata": {},
     "output_type": "execute_result"
    }
   ],
   "source": [
    "TEST_knn = best_model_knn.predict(X_test)\n",
    "ra_knn_test = roc_auc_score(y_test, TEST_knn)\n",
    "ra_knn_test"
   ]
  },
  {
   "cell_type": "code",
   "execution_count": 33,
   "metadata": {},
   "outputs": [
    {
     "data": {
      "text/plain": [
       "0.9186893203883495"
      ]
     },
     "execution_count": 33,
     "metadata": {},
     "output_type": "execute_result"
    }
   ],
   "source": [
    "best_model_knn.score(X_test, y_test)"
   ]
  },
  {
   "cell_type": "code",
   "execution_count": 34,
   "metadata": {},
   "outputs": [
    {
     "name": "stdout",
     "output_type": "stream",
     "text": [
      "             precision    recall  f1-score   support\n",
      "\n",
      "          0       0.95      0.96      0.95      2202\n",
      "          1       0.65      0.54      0.59       270\n",
      "\n",
      "avg / total       0.91      0.92      0.92      2472\n",
      "\n"
     ]
    }
   ],
   "source": [
    "print(classification_report(y_test, TEST_knn))"
   ]
  },
  {
   "cell_type": "markdown",
   "metadata": {},
   "source": [
    "### Итого"
   ]
  },
  {
   "cell_type": "code",
   "execution_count": 39,
   "metadata": {},
   "outputs": [
    {
     "data": {
      "text/html": [
       "<div>\n",
       "<style scoped>\n",
       "    .dataframe tbody tr th:only-of-type {\n",
       "        vertical-align: middle;\n",
       "    }\n",
       "\n",
       "    .dataframe tbody tr th {\n",
       "        vertical-align: top;\n",
       "    }\n",
       "\n",
       "    .dataframe thead th {\n",
       "        text-align: right;\n",
       "    }\n",
       "</style>\n",
       "<table border=\"1\" class=\"dataframe\">\n",
       "  <thead>\n",
       "    <tr style=\"text-align: right;\">\n",
       "      <th></th>\n",
       "      <th>train</th>\n",
       "      <th>test</th>\n",
       "    </tr>\n",
       "  </thead>\n",
       "  <tbody>\n",
       "    <tr>\n",
       "      <th>dtc</th>\n",
       "      <td>0.938431</td>\n",
       "      <td>0.688473</td>\n",
       "    </tr>\n",
       "    <tr>\n",
       "      <th>LogReg</th>\n",
       "      <td>0.928122</td>\n",
       "      <td>0.882375</td>\n",
       "    </tr>\n",
       "    <tr>\n",
       "      <th>KNN</th>\n",
       "      <td>0.915204</td>\n",
       "      <td>0.754511</td>\n",
       "    </tr>\n",
       "  </tbody>\n",
       "</table>\n",
       "</div>"
      ],
      "text/plain": [
       "           train      test\n",
       "dtc     0.938431  0.688473\n",
       "LogReg  0.928122  0.882375\n",
       "KNN     0.915204  0.754511"
      ]
     },
     "execution_count": 39,
     "metadata": {},
     "output_type": "execute_result"
    }
   ],
   "source": [
    "pd.DataFrame({'train': [ra_dtc_train, ra_log_train, ra_knn_train],\n",
    "              'test': [ra_dtc_test, ra_log_test, ra_knn_test]}, index=pd.Index(['dtc', 'LogReg', 'KNN']))"
   ]
  },
  {
   "cell_type": "markdown",
   "metadata": {},
   "source": [
    "значения в таблице выше +- пляшут, но тендеция вырисовывается однозначная\n",
    "логистическая регрессия предположительно покажет лучший результат на тестовых данных "
   ]
  },
  {
   "cell_type": "code",
   "execution_count": 45,
   "metadata": {},
   "outputs": [],
   "source": [
    "df_test = pd.read_csv('test.csv', sep=',')\n",
    "sub_res = pd.read_csv('sample_submission.csv')"
   ]
  },
  {
   "cell_type": "code",
   "execution_count": 47,
   "metadata": {},
   "outputs": [
    {
     "data": {
      "text/html": [
       "<div>\n",
       "<style scoped>\n",
       "    .dataframe tbody tr th:only-of-type {\n",
       "        vertical-align: middle;\n",
       "    }\n",
       "\n",
       "    .dataframe tbody tr th {\n",
       "        vertical-align: top;\n",
       "    }\n",
       "\n",
       "    .dataframe thead th {\n",
       "        text-align: right;\n",
       "    }\n",
       "</style>\n",
       "<table border=\"1\" class=\"dataframe\">\n",
       "  <thead>\n",
       "    <tr style=\"text-align: right;\">\n",
       "      <th></th>\n",
       "      <th>_id</th>\n",
       "      <th>age</th>\n",
       "      <th>job</th>\n",
       "      <th>marital</th>\n",
       "      <th>education</th>\n",
       "      <th>default</th>\n",
       "      <th>housing</th>\n",
       "      <th>loan</th>\n",
       "      <th>contact</th>\n",
       "      <th>month</th>\n",
       "      <th>...</th>\n",
       "      <th>duration</th>\n",
       "      <th>campaign</th>\n",
       "      <th>pdays</th>\n",
       "      <th>previous</th>\n",
       "      <th>poutcome</th>\n",
       "      <th>emp.var.rate</th>\n",
       "      <th>cons.price.idx</th>\n",
       "      <th>cons.conf.idx</th>\n",
       "      <th>euribor3m</th>\n",
       "      <th>nr.employed</th>\n",
       "    </tr>\n",
       "  </thead>\n",
       "  <tbody>\n",
       "    <tr>\n",
       "      <th>0</th>\n",
       "      <td>66810d8e6bf2b41c880a7bc6c8a1e295</td>\n",
       "      <td>57</td>\n",
       "      <td>technician</td>\n",
       "      <td>married</td>\n",
       "      <td>high.school</td>\n",
       "      <td>no</td>\n",
       "      <td>no</td>\n",
       "      <td>yes</td>\n",
       "      <td>cellular</td>\n",
       "      <td>may</td>\n",
       "      <td>...</td>\n",
       "      <td>371</td>\n",
       "      <td>1</td>\n",
       "      <td>999</td>\n",
       "      <td>1</td>\n",
       "      <td>failure</td>\n",
       "      <td>-1.8</td>\n",
       "      <td>92.893</td>\n",
       "      <td>-46.2</td>\n",
       "      <td>1.299</td>\n",
       "      <td>5099.1</td>\n",
       "    </tr>\n",
       "    <tr>\n",
       "      <th>1</th>\n",
       "      <td>ccac3879652b08cb8b44c1920fd93afa</td>\n",
       "      <td>55</td>\n",
       "      <td>unknown</td>\n",
       "      <td>married</td>\n",
       "      <td>unknown</td>\n",
       "      <td>unknown</td>\n",
       "      <td>yes</td>\n",
       "      <td>no</td>\n",
       "      <td>telephone</td>\n",
       "      <td>may</td>\n",
       "      <td>...</td>\n",
       "      <td>285</td>\n",
       "      <td>2</td>\n",
       "      <td>999</td>\n",
       "      <td>0</td>\n",
       "      <td>nonexistent</td>\n",
       "      <td>1.1</td>\n",
       "      <td>93.994</td>\n",
       "      <td>-36.4</td>\n",
       "      <td>4.860</td>\n",
       "      <td>5191.0</td>\n",
       "    </tr>\n",
       "    <tr>\n",
       "      <th>2</th>\n",
       "      <td>fcccab4d7a76f70647f015f2c84c2af8</td>\n",
       "      <td>33</td>\n",
       "      <td>blue-collar</td>\n",
       "      <td>married</td>\n",
       "      <td>basic.9y</td>\n",
       "      <td>no</td>\n",
       "      <td>no</td>\n",
       "      <td>no</td>\n",
       "      <td>cellular</td>\n",
       "      <td>may</td>\n",
       "      <td>...</td>\n",
       "      <td>52</td>\n",
       "      <td>1</td>\n",
       "      <td>999</td>\n",
       "      <td>1</td>\n",
       "      <td>failure</td>\n",
       "      <td>-1.8</td>\n",
       "      <td>92.893</td>\n",
       "      <td>-46.2</td>\n",
       "      <td>1.313</td>\n",
       "      <td>5099.1</td>\n",
       "    </tr>\n",
       "    <tr>\n",
       "      <th>3</th>\n",
       "      <td>ed8399278c30678dab739045fa12b440</td>\n",
       "      <td>36</td>\n",
       "      <td>admin.</td>\n",
       "      <td>married</td>\n",
       "      <td>high.school</td>\n",
       "      <td>no</td>\n",
       "      <td>no</td>\n",
       "      <td>no</td>\n",
       "      <td>telephone</td>\n",
       "      <td>jun</td>\n",
       "      <td>...</td>\n",
       "      <td>355</td>\n",
       "      <td>4</td>\n",
       "      <td>999</td>\n",
       "      <td>0</td>\n",
       "      <td>nonexistent</td>\n",
       "      <td>1.4</td>\n",
       "      <td>94.465</td>\n",
       "      <td>-41.8</td>\n",
       "      <td>4.967</td>\n",
       "      <td>5228.1</td>\n",
       "    </tr>\n",
       "    <tr>\n",
       "      <th>4</th>\n",
       "      <td>1d4d62ac5cabcb48bac7112813f290cb</td>\n",
       "      <td>27</td>\n",
       "      <td>housemaid</td>\n",
       "      <td>married</td>\n",
       "      <td>high.school</td>\n",
       "      <td>no</td>\n",
       "      <td>yes</td>\n",
       "      <td>no</td>\n",
       "      <td>cellular</td>\n",
       "      <td>jul</td>\n",
       "      <td>...</td>\n",
       "      <td>189</td>\n",
       "      <td>2</td>\n",
       "      <td>999</td>\n",
       "      <td>0</td>\n",
       "      <td>nonexistent</td>\n",
       "      <td>1.4</td>\n",
       "      <td>93.918</td>\n",
       "      <td>-42.7</td>\n",
       "      <td>4.963</td>\n",
       "      <td>5228.1</td>\n",
       "    </tr>\n",
       "  </tbody>\n",
       "</table>\n",
       "<p>5 rows × 21 columns</p>\n",
       "</div>"
      ],
      "text/plain": [
       "                                _id  age          job  marital    education  \\\n",
       "0  66810d8e6bf2b41c880a7bc6c8a1e295   57   technician  married  high.school   \n",
       "1  ccac3879652b08cb8b44c1920fd93afa   55      unknown  married      unknown   \n",
       "2  fcccab4d7a76f70647f015f2c84c2af8   33  blue-collar  married     basic.9y   \n",
       "3  ed8399278c30678dab739045fa12b440   36       admin.  married  high.school   \n",
       "4  1d4d62ac5cabcb48bac7112813f290cb   27    housemaid  married  high.school   \n",
       "\n",
       "   default housing loan    contact month     ...      duration  campaign  \\\n",
       "0       no      no  yes   cellular   may     ...           371         1   \n",
       "1  unknown     yes   no  telephone   may     ...           285         2   \n",
       "2       no      no   no   cellular   may     ...            52         1   \n",
       "3       no      no   no  telephone   jun     ...           355         4   \n",
       "4       no     yes   no   cellular   jul     ...           189         2   \n",
       "\n",
       "   pdays  previous     poutcome emp.var.rate  cons.price.idx  cons.conf.idx  \\\n",
       "0    999         1      failure         -1.8          92.893          -46.2   \n",
       "1    999         0  nonexistent          1.1          93.994          -36.4   \n",
       "2    999         1      failure         -1.8          92.893          -46.2   \n",
       "3    999         0  nonexistent          1.4          94.465          -41.8   \n",
       "4    999         0  nonexistent          1.4          93.918          -42.7   \n",
       "\n",
       "   euribor3m  nr.employed  \n",
       "0      1.299       5099.1  \n",
       "1      4.860       5191.0  \n",
       "2      1.313       5099.1  \n",
       "3      4.967       5228.1  \n",
       "4      4.963       5228.1  \n",
       "\n",
       "[5 rows x 21 columns]"
      ]
     },
     "execution_count": 47,
     "metadata": {},
     "output_type": "execute_result"
    }
   ],
   "source": [
    "df_test.head()"
   ]
  },
  {
   "cell_type": "code",
   "execution_count": 50,
   "metadata": {},
   "outputs": [
    {
     "data": {
      "text/html": [
       "<div>\n",
       "<style scoped>\n",
       "    .dataframe tbody tr th:only-of-type {\n",
       "        vertical-align: middle;\n",
       "    }\n",
       "\n",
       "    .dataframe tbody tr th {\n",
       "        vertical-align: top;\n",
       "    }\n",
       "\n",
       "    .dataframe thead th {\n",
       "        text-align: right;\n",
       "    }\n",
       "</style>\n",
       "<table border=\"1\" class=\"dataframe\">\n",
       "  <thead>\n",
       "    <tr style=\"text-align: right;\">\n",
       "      <th></th>\n",
       "      <th>_id</th>\n",
       "      <th>target</th>\n",
       "    </tr>\n",
       "  </thead>\n",
       "  <tbody>\n",
       "    <tr>\n",
       "      <th>0</th>\n",
       "      <td>66810d8e6bf2b41c880a7bc6c8a1e295</td>\n",
       "      <td>0</td>\n",
       "    </tr>\n",
       "    <tr>\n",
       "      <th>1</th>\n",
       "      <td>ccac3879652b08cb8b44c1920fd93afa</td>\n",
       "      <td>0</td>\n",
       "    </tr>\n",
       "    <tr>\n",
       "      <th>2</th>\n",
       "      <td>fcccab4d7a76f70647f015f2c84c2af8</td>\n",
       "      <td>0</td>\n",
       "    </tr>\n",
       "    <tr>\n",
       "      <th>3</th>\n",
       "      <td>ed8399278c30678dab739045fa12b440</td>\n",
       "      <td>0</td>\n",
       "    </tr>\n",
       "    <tr>\n",
       "      <th>4</th>\n",
       "      <td>1d4d62ac5cabcb48bac7112813f290cb</td>\n",
       "      <td>0</td>\n",
       "    </tr>\n",
       "  </tbody>\n",
       "</table>\n",
       "</div>"
      ],
      "text/plain": [
       "                                _id  target\n",
       "0  66810d8e6bf2b41c880a7bc6c8a1e295       0\n",
       "1  ccac3879652b08cb8b44c1920fd93afa       0\n",
       "2  fcccab4d7a76f70647f015f2c84c2af8       0\n",
       "3  ed8399278c30678dab739045fa12b440       0\n",
       "4  1d4d62ac5cabcb48bac7112813f290cb       0"
      ]
     },
     "execution_count": 50,
     "metadata": {},
     "output_type": "execute_result"
    }
   ],
   "source": [
    "sub_res.head()"
   ]
  },
  {
   "cell_type": "code",
   "execution_count": 51,
   "metadata": {},
   "outputs": [
    {
     "data": {
      "text/plain": [
       "LogisticRegression(C=16, class_weight='balanced', dual=False,\n",
       "          fit_intercept=True, intercept_scaling=1, max_iter=100,\n",
       "          multi_class='ovr', n_jobs=1, penalty='l2', random_state=123,\n",
       "          solver='liblinear', tol=1e-05, verbose=0, warm_start=False)"
      ]
     },
     "execution_count": 51,
     "metadata": {},
     "output_type": "execute_result"
    }
   ],
   "source": [
    "model_log"
   ]
  },
  {
   "cell_type": "code",
   "execution_count": 61,
   "metadata": {},
   "outputs": [
    {
     "data": {
      "text/plain": [
       "array([[54.,  0.,  2., ...,  0.,  1.,  0.],\n",
       "       [37.,  1.,  2., ...,  0.,  1.,  0.],\n",
       "       [31.,  1.,  4., ...,  0.,  1.,  0.],\n",
       "       ...,\n",
       "       [47.,  1.,  1., ...,  0.,  1.,  0.],\n",
       "       [48.,  1.,  1., ...,  0.,  0.,  1.],\n",
       "       [23.,  1.,  1., ...,  0.,  1.,  0.]])"
      ]
     },
     "execution_count": 61,
     "metadata": {},
     "output_type": "execute_result"
    }
   ],
   "source": [
    "df_test.loc[:, 'target'] = 0 ### теперь я понял что не надо было добавлять в preproc разделение не данные и цель\n",
    "df_test_preproc, _ = df_test.pipe(preproc)\n",
    "df_test_preproc.head()"
   ]
  },
  {
   "cell_type": "code",
   "execution_count": 64,
   "metadata": {},
   "outputs": [],
   "source": [
    "result = model_log.predict(df_test_preproc)"
   ]
  },
  {
   "cell_type": "code",
   "execution_count": 68,
   "metadata": {},
   "outputs": [
    {
     "name": "stdout",
     "output_type": "stream",
     "text": [
      "3749 12727\n"
     ]
    }
   ],
   "source": [
    "p = 0\n",
    "n = 0\n",
    "for i in result:\n",
    "    if i == 0:\n",
    "        n+=1\n",
    "    else:\n",
    "        p+=1\n",
    "        \n",
    "print(p, n)"
   ]
  },
  {
   "cell_type": "code",
   "execution_count": 71,
   "metadata": {},
   "outputs": [],
   "source": [
    "sub_res.loc[:, 'target'] = result"
   ]
  },
  {
   "cell_type": "code",
   "execution_count": 73,
   "metadata": {},
   "outputs": [
    {
     "data": {
      "text/html": [
       "<div>\n",
       "<style scoped>\n",
       "    .dataframe tbody tr th:only-of-type {\n",
       "        vertical-align: middle;\n",
       "    }\n",
       "\n",
       "    .dataframe tbody tr th {\n",
       "        vertical-align: top;\n",
       "    }\n",
       "\n",
       "    .dataframe thead th {\n",
       "        text-align: right;\n",
       "    }\n",
       "</style>\n",
       "<table border=\"1\" class=\"dataframe\">\n",
       "  <thead>\n",
       "    <tr style=\"text-align: right;\">\n",
       "      <th></th>\n",
       "      <th>target</th>\n",
       "    </tr>\n",
       "  </thead>\n",
       "  <tbody>\n",
       "    <tr>\n",
       "      <th>count</th>\n",
       "      <td>16476.000000</td>\n",
       "    </tr>\n",
       "    <tr>\n",
       "      <th>mean</th>\n",
       "      <td>0.227543</td>\n",
       "    </tr>\n",
       "    <tr>\n",
       "      <th>std</th>\n",
       "      <td>0.419259</td>\n",
       "    </tr>\n",
       "    <tr>\n",
       "      <th>min</th>\n",
       "      <td>0.000000</td>\n",
       "    </tr>\n",
       "    <tr>\n",
       "      <th>25%</th>\n",
       "      <td>0.000000</td>\n",
       "    </tr>\n",
       "    <tr>\n",
       "      <th>50%</th>\n",
       "      <td>0.000000</td>\n",
       "    </tr>\n",
       "    <tr>\n",
       "      <th>75%</th>\n",
       "      <td>0.000000</td>\n",
       "    </tr>\n",
       "    <tr>\n",
       "      <th>max</th>\n",
       "      <td>1.000000</td>\n",
       "    </tr>\n",
       "  </tbody>\n",
       "</table>\n",
       "</div>"
      ],
      "text/plain": [
       "             target\n",
       "count  16476.000000\n",
       "mean       0.227543\n",
       "std        0.419259\n",
       "min        0.000000\n",
       "25%        0.000000\n",
       "50%        0.000000\n",
       "75%        0.000000\n",
       "max        1.000000"
      ]
     },
     "execution_count": 73,
     "metadata": {},
     "output_type": "execute_result"
    }
   ],
   "source": [
    "sub_res.describe()"
   ]
  },
  {
   "cell_type": "code",
   "execution_count": 75,
   "metadata": {},
   "outputs": [
    {
     "data": {
      "text/html": [
       "<div>\n",
       "<style scoped>\n",
       "    .dataframe tbody tr th:only-of-type {\n",
       "        vertical-align: middle;\n",
       "    }\n",
       "\n",
       "    .dataframe tbody tr th {\n",
       "        vertical-align: top;\n",
       "    }\n",
       "\n",
       "    .dataframe thead th {\n",
       "        text-align: right;\n",
       "    }\n",
       "</style>\n",
       "<table border=\"1\" class=\"dataframe\">\n",
       "  <thead>\n",
       "    <tr style=\"text-align: right;\">\n",
       "      <th></th>\n",
       "      <th>target</th>\n",
       "    </tr>\n",
       "  </thead>\n",
       "  <tbody>\n",
       "    <tr>\n",
       "      <th>count</th>\n",
       "      <td>24712.000000</td>\n",
       "    </tr>\n",
       "    <tr>\n",
       "      <th>mean</th>\n",
       "      <td>0.112779</td>\n",
       "    </tr>\n",
       "    <tr>\n",
       "      <th>std</th>\n",
       "      <td>0.316329</td>\n",
       "    </tr>\n",
       "    <tr>\n",
       "      <th>min</th>\n",
       "      <td>0.000000</td>\n",
       "    </tr>\n",
       "    <tr>\n",
       "      <th>25%</th>\n",
       "      <td>0.000000</td>\n",
       "    </tr>\n",
       "    <tr>\n",
       "      <th>50%</th>\n",
       "      <td>0.000000</td>\n",
       "    </tr>\n",
       "    <tr>\n",
       "      <th>75%</th>\n",
       "      <td>0.000000</td>\n",
       "    </tr>\n",
       "    <tr>\n",
       "      <th>max</th>\n",
       "      <td>1.000000</td>\n",
       "    </tr>\n",
       "  </tbody>\n",
       "</table>\n",
       "</div>"
      ],
      "text/plain": [
       "             target\n",
       "count  24712.000000\n",
       "mean       0.112779\n",
       "std        0.316329\n",
       "min        0.000000\n",
       "25%        0.000000\n",
       "50%        0.000000\n",
       "75%        0.000000\n",
       "max        1.000000"
      ]
     },
     "execution_count": 75,
     "metadata": {},
     "output_type": "execute_result"
    }
   ],
   "source": [
    "df[['target']].describe()"
   ]
  },
  {
   "cell_type": "code",
   "execution_count": 78,
   "metadata": {},
   "outputs": [],
   "source": [
    "sub_res.to_csv('sample_submission.csv', sep=',', index=False)"
   ]
  },
  {
   "cell_type": "markdown",
   "metadata": {},
   "source": [
    "ловитесь данные, большие и маленькие"
   ]
  },
  {
   "cell_type": "code",
   "execution_count": null,
   "metadata": {},
   "outputs": [],
   "source": []
  }
 ],
 "metadata": {
  "kernelspec": {
   "display_name": "Python [default]",
   "language": "python",
   "name": "python3"
  },
  "language_info": {
   "codemirror_mode": {
    "name": "ipython",
    "version": 3
   },
   "file_extension": ".py",
   "mimetype": "text/x-python",
   "name": "python",
   "nbconvert_exporter": "python",
   "pygments_lexer": "ipython3",
   "version": "3.6.5"
  }
 },
 "nbformat": 4,
 "nbformat_minor": 2
}
